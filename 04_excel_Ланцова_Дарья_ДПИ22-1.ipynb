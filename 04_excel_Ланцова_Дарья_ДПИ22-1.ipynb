{
 "cells": [
  {
   "cell_type": "markdown",
   "metadata": {},
   "source": [
    "# Работа с Excel"
   ]
  },
  {
   "cell_type": "markdown",
   "metadata": {},
   "source": [
    "Материалы:\n",
    "* Макрушин С.В. Лекция 7: Работа с Excel\n",
    "* https://docs.xlwings.org/en/stable/quickstart.html\n",
    "* https://nbviewer.jupyter.org/github/pybokeh/jupyter_notebooks/blob/master/xlwings/Excel_Formatting.ipynb#search_text\n"
   ]
  },
  {
   "cell_type": "markdown",
   "metadata": {},
   "source": [
    "## Задачи для совместного разбора"
   ]
  },
  {
   "cell_type": "markdown",
   "metadata": {},
   "source": [
    "1. На листе \"Рецептура\" файла `себестоимостьА_в1.xlsx` для области \"Пшеничный хлеб\" рассчитать себестоимость всех видов продукции."
   ]
  },
  {
   "cell_type": "markdown",
   "metadata": {},
   "source": [
    "2. Результаты расчетов 1.1 сохранить в отдельном столбце области \"Пшеничный хлеб\""
   ]
  },
  {
   "cell_type": "markdown",
   "metadata": {},
   "source": [
    "3. Приблизить форматирование столбца, добавленного в задаче 2 к оформлению всей области."
   ]
  },
  {
   "cell_type": "markdown",
   "metadata": {},
   "source": [
    "4. Выполнить 3 с помощью \"протягиваемых\" формул."
   ]
  },
  {
   "cell_type": "markdown",
   "metadata": {},
   "source": [
    "## Лабораторная работа 7.1"
   ]
  },
  {
   "cell_type": "code",
   "execution_count": 2,
   "metadata": {},
   "outputs": [],
   "source": [
    "import pandas as pd"
   ]
  },
  {
   "cell_type": "markdown",
   "metadata": {},
   "source": [
    "1. Загрузите данные из файлов `reviews_sample.csv` (__ЛР2__) и `recipes_sample.csv` (__ЛР5__) в виде `pd.DataFrame`. Обратите внимание на корректное считывание столбца(ов) с индексами. Оставьте в таблице с рецептами следующие столбцы: `id`, `name`, `minutes`, `submitted`, `description`, `n_ingredients`"
   ]
  },
  {
   "cell_type": "code",
   "execution_count": 2,
   "metadata": {},
   "outputs": [],
   "source": [
    "reviews = pd.read_csv('data/reviews_sample.csv', index_col=0)\n",
    "recipes = pd.read_csv('data/recipes_sample.csv', index_col=0, usecols=['id', 'name', 'minutes', 'submitted', 'description', 'n_ingredients'])"
   ]
  },
  {
   "cell_type": "code",
   "execution_count": 3,
   "metadata": {},
   "outputs": [
    {
     "name": "stdout",
     "output_type": "stream",
     "text": [
      "           user_id  recipe_id        date  rating  \\\n",
      "370476       21752      57993  2003-05-01       5   \n",
      "624300      431813     142201  2007-09-16       5   \n",
      "187037      400708     252013  2008-01-10       4   \n",
      "706134  2001852463     404716  2017-12-11       5   \n",
      "312179       95810     129396  2008-03-14       5   \n",
      "\n",
      "                                                   review  \n",
      "370476  Last week whole sides of frozen salmon fillet ...  \n",
      "624300  So simple and so tasty!  I used a yellow capsi...  \n",
      "187037  Very nice breakfast HH, easy to make and yummy...  \n",
      "706134  These are a favorite for the holidays and so e...  \n",
      "312179  Excellent soup!  The tomato flavor is just gre...  \n"
     ]
    }
   ],
   "source": [
    "print(reviews.head())"
   ]
  },
  {
   "cell_type": "code",
   "execution_count": 4,
   "metadata": {},
   "outputs": [
    {
     "name": "stdout",
     "output_type": "stream",
     "text": [
      "                                             id  minutes   submitted  \\\n",
      "name                                                                   \n",
      "george s at the cove  black bean soup     44123       90  2002-10-25   \n",
      "healthy for them  yogurt popsicles        67664       10  2003-07-26   \n",
      "i can t believe it s spinach              38798       30  2002-08-29   \n",
      "italian  gut busters                      35173       45  2002-07-27   \n",
      "love is in the air  beef fondue   sauces  84797       25  2004-02-23   \n",
      "\n",
      "                                                                                description  \\\n",
      "name                                                                                          \n",
      "george s at the cove  black bean soup     an original recipe created by chef scott meska...   \n",
      "healthy for them  yogurt popsicles        my children and their friends ask for my homem...   \n",
      "i can t believe it s spinach                        these were so go, it surprised even me.   \n",
      "italian  gut busters                      my sister-in-law made these for us at a family...   \n",
      "love is in the air  beef fondue   sauces  i think a fondue is a very romantic casual din...   \n",
      "\n",
      "                                          n_ingredients  \n",
      "name                                                     \n",
      "george s at the cove  black bean soup              18.0  \n",
      "healthy for them  yogurt popsicles                  NaN  \n",
      "i can t believe it s spinach                        8.0  \n",
      "italian  gut busters                                NaN  \n",
      "love is in the air  beef fondue   sauces            NaN  \n"
     ]
    }
   ],
   "source": [
    "print(recipes.head())"
   ]
  },
  {
   "cell_type": "markdown",
   "metadata": {},
   "source": [
    "2. Случайным образом выберите 5% строк из каждой таблицы и сохраните две таблицы на разные листы в один файл `recipes.xlsx`. Дайте листам названия \"Рецепты\" и \"Отзывы\", соответствующие содержанию таблиц. "
   ]
  },
  {
   "cell_type": "code",
   "execution_count": 5,
   "metadata": {},
   "outputs": [],
   "source": [
    "reviews_sample = reviews.sample(frac=0.05)\n",
    "recipes_sample = recipes.sample(frac=0.05)\n",
    "\n",
    "\n",
    "with pd.ExcelWriter('recipes.xlsx') as writer:\n",
    "    recipes_sample.to_excel(writer, sheet_name='Рецепты')\n",
    "    reviews_sample.to_excel(writer, sheet_name='Отзывы')\n"
   ]
  },
  {
   "cell_type": "markdown",
   "metadata": {},
   "source": [
    "3. Используя `xlwings`, добавьте на лист `Рецепты` столбец `seconds_assign`, показывающий время выполнения рецепта в секундах. Выполните задание при помощи присваивания массива значений диапазону ячеек."
   ]
  },
  {
   "cell_type": "code",
   "execution_count": 3,
   "metadata": {},
   "outputs": [],
   "source": [
    "import xlwings as xw"
   ]
  },
  {
   "cell_type": "code",
   "execution_count": 6,
   "metadata": {
    "scrolled": true
   },
   "outputs": [],
   "source": [
    "book = xw.Book('recipes.xlsx')\n",
    "\n",
    "sheet = book.sheets['Рецепты']\n",
    "\n",
    "recipes_df = sheet.range('A1').options(pd.DataFrame, header=1, index=False, expand='table').value\n",
    "\n",
    "\n",
    "recipes_df['seconds_assign'] = recipes_df['minutes'] * 60\n",
    "header = sheet.range('G1')\n",
    "header.value = 'seconds_assign'\n",
    "\n",
    "# Присваиваем массив значений диапазону ячеек на листе\n",
    "sheet.range('G2').options(transpose=True).value = recipes_df['seconds_assign'].values\n",
    "\n",
    "\n",
    "book.save()\n",
    "book.close()"
   ]
  },
  {
   "cell_type": "markdown",
   "metadata": {},
   "source": [
    "4. Используя `xlwings`, добавьте на лист `Рецепты` столбец `seconds_formula`, показывающий время выполнения рецепта в секундах. Выполните задание при помощи формул Excel."
   ]
  },
  {
   "cell_type": "code",
   "execution_count": 7,
   "metadata": {},
   "outputs": [],
   "source": [
    "book = xw.Book('recipes.xlsx')\n",
    "\n",
    "sheet = book.sheets['Рецепты']\n",
    "\n",
    "sheet.range('H1').value = 'seconds_formula'\n",
    "\n",
    "# Вычисляем формулу для каждой ячейки в столбце \"seconds_formula\"\n",
    "last_row = sheet.range('A1').current_region.last_cell.row\n",
    "sheet.range('H2:H{}'.format(last_row)).formula = '=C2*60'\n",
    "\n",
    "\n",
    "book.save()\n",
    "book.close()"
   ]
  },
  {
   "cell_type": "markdown",
   "metadata": {},
   "source": [
    "5. Сделайте названия всех добавленных столбцов полужирными и выровняйте по центру ячейки."
   ]
  },
  {
   "cell_type": "code",
   "execution_count": 9,
   "metadata": {},
   "outputs": [],
   "source": [
    "book = xw.Book('recipes.xlsx')\n",
    "sheet = book.sheets['Рецепты']\n",
    "\n",
    "# Выделяем ячейки, содержащие заголовки столбцов, и применяем форматирование\n",
    "headers = sheet.range('A1:H1')\n",
    "headers.api.Font.Bold = True\n",
    "headers.api.HorizontalAlignment = xw.constants.HAlign.xlHAlignCenter\n",
    "\n",
    "\n",
    "book.save()\n",
    "book.close()"
   ]
  },
  {
   "cell_type": "markdown",
   "metadata": {},
   "source": [
    "6. Раскрасьте ячейки столбца `minutes` в соответствии со следующим правилом: если рецепт выполняется быстрее 5 минут, то цвет - зеленый; от 5 до 10 минут - жёлтый; и больше 10 - красный."
   ]
  },
  {
   "cell_type": "code",
   "execution_count": 10,
   "metadata": {},
   "outputs": [],
   "source": [
    "book = xw.Book('recipes.xlsx')\n",
    "sheet = book.sheets['Рецепты']\n",
    "\n",
    "# Определяем цвета ячеек\n",
    "green = (0, 255, 0)\n",
    "yellow = (255, 255, 0)\n",
    "red = (255, 0, 0)\n",
    "\n",
    "# Применяем форматирование к столбцу \"minutes\"\n",
    "last_row = sheet.range('A1').current_region.last_cell.row\n",
    "for i in range(2, last_row + 1):\n",
    "    minutes = sheet.range('C{}'.format(i)).value\n",
    "    if minutes < 5:\n",
    "        color = green\n",
    "    elif minutes < 10:\n",
    "        color = yellow\n",
    "    else:\n",
    "        color = red\n",
    "    sheet.range('C{}'.format(i)).color = color\n",
    "\n",
    "\n",
    "book.save()\n",
    "book.close()"
   ]
  },
  {
   "cell_type": "markdown",
   "metadata": {},
   "source": [
    "7. Добавьте на лист `Рецепты`  столбец `n_reviews`, содержащий кол-во отзывов для этого рецепта. Выполните задание при помощи формул Excel."
   ]
  },
  {
   "cell_type": "code",
   "execution_count": 11,
   "metadata": {},
   "outputs": [],
   "source": [
    "book = xw.Book('recipes.xlsx')\n",
    "sheet = book.sheets['Рецепты']\n",
    "\n",
    "# Добавляем столбец \"n_reviews\" на лист\n",
    "sheet.range('I1').value = 'n_reviews'\n",
    "\n",
    "# Вычисляем формулу для каждой ячейки в столбце \"n_reviews\"\n",
    "last_row = sheet.range('A1').current_region.last_cell.row\n",
    "sheet.range('I2:I{}'.format(last_row)).formula = '=COUNTIF(Отзывы!C:C, B2)'\n",
    "\n",
    "\n",
    "book.save()\n",
    "book.close()"
   ]
  },
  {
   "cell_type": "markdown",
   "metadata": {},
   "source": [
    "## Лабораторная работа 7.2"
   ]
  },
  {
   "cell_type": "markdown",
   "metadata": {},
   "source": [
    "8. Напишите функцию `validate()`, которая проверяет соответствие всех строк из листа `Отзывы` следующим правилам:\n",
    "    * Рейтинг - это число от 0 до 5 включительно\n",
    "    * Соответствующий рецепт имеется на листе `Рецепты`\n",
    "    \n",
    "В случае несоответствия этим правилам, выделите строку красным цветом"
   ]
  },
  {
   "cell_type": "code",
   "execution_count": 19,
   "metadata": {},
   "outputs": [],
   "source": [
    "def validate():\n",
    "    wb = xw.Book('recipes.xlsx')\n",
    "    recipes_sheet = wb.sheets['Рецепты']\n",
    "    reviews_sheet = wb.sheets['Отзывы']\n",
    "    \n",
    "    # Определяем цвет для выделения строк\n",
    "    red = (255, 0, 0)\n",
    "    \n",
    "    # Получаем диапазон ячеек на листе \"Отзывы\"\n",
    "    last_row = reviews_sheet.range('A1').current_region.last_cell.row\n",
    "    range_str = 'A2:F{}'.format(last_row)\n",
    "    range = reviews_sheet.range(range_str)\n",
    "    \n",
    "    # Получаем список id рецептов из листа Рецепты\n",
    "    recipe_ids = recipes_sheet.range('B2:B{}'.format(recipes_sheet.range('B1').current_region.last_cell.row)).value\n",
    "    \n",
    "    # Проверяем соответствие правилам для каждой строки в диапазоне\n",
    "    for row in range.rows:\n",
    "        rating = row[4].value\n",
    "        if rating is None or not (0 <= rating <= 5):\n",
    "            row.color = red\n",
    "            continue\n",
    "        \n",
    "        recipe_id = row[2].value\n",
    "        if recipe_id is None or recipe_id not in recipe_ids:\n",
    "            row.color = red\n",
    "            continue\n",
    "    \n",
    "    wb.save()\n",
    "    wb.close()\n",
    "\n",
    "validate()\n"
   ]
  },
  {
   "cell_type": "markdown",
   "metadata": {},
   "source": [
    "9. В файле `recipes_model.csv` находится модель данных предметной области \"рецепты\". При помощи пакета `csv` считайте эти данные. При помощи пакета `xlwings` запишите данные на лист `Модель` книги `recipes_model.xlsx`, начиная с ячейки `A2`, не используя циклы. Сделайте скриншот текущего состояния листа и прикрепите в ячейку ноутбука. "
   ]
  },
  {
   "cell_type": "code",
   "execution_count": 4,
   "metadata": {},
   "outputs": [],
   "source": [
    "import csv"
   ]
  },
  {
   "cell_type": "code",
   "execution_count": 39,
   "metadata": {},
   "outputs": [],
   "source": [
    "with open('data/recipes_model.csv', encoding='utf-8') as f:\n",
    "    reader = csv.reader(f, delimiter='\\t')\n",
    "    data = list(reader)\n",
    "\n",
    "# Создаем новую книгу и получаем лист \"Модель\"\n",
    "wb = xw.Book()\n",
    "wb.sheets[0].name = 'Модель'\n",
    "sheet = wb.sheets['Модель']\n",
    "\n",
    "# Записываем данные на лист\n",
    "sheet.range('A2').value = data\n",
    "\n",
    "wb.save('recipes_model.xlsx')\n",
    "wb.close()\n"
   ]
  },
  {
   "cell_type": "markdown",
   "metadata": {},
   "source": [
    "![scr_1](scr1.png)"
   ]
  },
  {
   "cell_type": "markdown",
   "metadata": {},
   "source": [
    "10. При помощи пакета `xlwings` добавьте в столбец J формулу для описания столбца на языке SQL. Формула должна реализовывать следующую логику:\n",
    "\n",
    "    1\\. в начале строки идут значения из столбцов В и C (значение столбца С приведено к верхнему регистру), разделенные пробелом\n",
    "    \n",
    "    2\\. далее идут слова на основе столбца \"Ключ\"\n",
    "        2.1 если в столбце \"Ключ\" указано значение \"PK\", то дальше через пробел идет ключевое слово \"PRIMARY KEY\"\n",
    "        2.2 если в столбце \"Ключ\" указано значение \"FK\", то дальше через пробел идет ключевое слово \"REFERENCES\", затем значения столбцов H и I в формате \"название_таблицы(название_столбца)\"\n",
    "        \n",
    "    3\\. если в столбце \"Обязательно к заполнению\" указано значение \"Y\" и в столбце \"Ключ\" указано не \"PK\", то дальше через пробел идет ключевое слово \"NOT NULL\".\n",
    "\n",
    "Заполните этой формулой необходимое количество строк, используя \"протягивание\". Количество строк для протягивания определите на основе данных.\n",
    "\n",
    "Сделайте скриншот текущего состояния листа и прикрепите в ячейку ноутбука."
   ]
  },
  {
   "cell_type": "code",
   "execution_count": 71,
   "metadata": {},
   "outputs": [],
   "source": [
    "wb = xw.Book('recipes_model.xlsx')\n",
    "sheet = wb.sheets['Модель']\n",
    "\n",
    "# определяем количество строк для протягивания формулы\n",
    "num_rows = sheet.range('A1').current_region.last_cell.row\n",
    "\n",
    "# добавляем формулу в столбец J\n",
    "for i in range(2, num_rows + 1):\n",
    "    b_val = sheet.range(f'B{i}').value\n",
    "    c_val = sheet.range(f'C{i}').value.upper()\n",
    "    key_val = sheet.range(f'G{i}').value\n",
    "    h_val = sheet.range(f'H{i}').value\n",
    "    i_val = sheet.range(f'I{i}').value\n",
    "    j_formula = f'{b_val} {c_val}'\n",
    "    \n",
    "    if key_val == 'PK':\n",
    "        j_formula += ' PRIMARY KEY'\n",
    "    elif key_val == 'FK':\n",
    "        j_formula += f' REFERENCES {h_val}({i_val})'\n",
    "    \n",
    "    req_val = sheet.range(f'D{i}').value\n",
    "    if req_val == 'Y' and key_val != 'PK':\n",
    "        j_formula += ' NOT NULL'\n",
    "    \n",
    "    sheet.range(f'J{i}').formula = j_formula\n",
    "\n",
    "wb.save()\n",
    "wb.close()\n"
   ]
  },
  {
   "cell_type": "markdown",
   "metadata": {},
   "source": [
    "![scr2](scr2.png)"
   ]
  },
  {
   "cell_type": "markdown",
   "metadata": {},
   "source": [
    "11. При помощи пакета `xlwings` измените стилизацию листа `Модель`.\n",
    "* для заголовков добавьте заливку цвета `00ccff`\n",
    "* примените автоподбор ширины столбца;\n",
    "* сделайте шрифт заголовков полужирным;\n",
    "* добавьте таблице автофильтр.\n",
    "\n",
    "Сделайте скриншот текущего состояния листа и прикрепите в ячейку ноутбука."
   ]
  },
  {
   "cell_type": "code",
   "execution_count": 5,
   "metadata": {},
   "outputs": [
    {
     "name": "stdout",
     "output_type": "stream",
     "text": [
      "\n"
     ]
    }
   ],
   "source": [
    "wb = xw.Book('recipes_model.xlsx')\n",
    "ws = wb.sheets['Модель']\n",
    "\n",
    "# Заливка цветом для заголовков\n",
    "header_range = ws.range('A1:J1')\n",
    "header_range.color = (0, 204, 255)\n",
    "\n",
    "# Автоподбор ширины столбца\n",
    "ws.autofit()\n",
    "\n",
    "# Жирный шрифт для заголовков\n",
    "header_range.api.Font.Bold = True\n",
    "\n",
    "# Добавление автофильтра\n",
    "table_range = ws.range('A1:J1')  \n",
    "table_range.api.AutoFilter() \n",
    "\n",
    "\n",
    "wb.save()\n",
    "wb.close()"
   ]
  },
  {
   "cell_type": "markdown",
   "metadata": {},
   "source": [
    "![scr3](scr3.png)"
   ]
  },
  {
   "cell_type": "markdown",
   "metadata": {},
   "source": [
    "12. Посчитайте количество атрибутов для каждой из сущностей. Создайте лист `Статистика` и запишите в него результат группировки, начиная с ячейки \"А1\". Визуализируйте полученный результат при помощи столбчатой диаграммы. Сохраните полученную визуализацию на лист `Статистика`, начиная с ячейки \"E2\".  Сделайте скриншот листа `Статистика` и прикрепите в ячейку ноутбука.\n",
    "\n",
    "* Вы можете воспользоваться методами для визуализации, которые поставляются вместе с объектами `pandas` (см. https://pandas.pydata.org/docs/reference/api/pandas.DataFrame.plot) "
   ]
  }
 ],
 "metadata": {
  "kernelspec": {
   "display_name": "Python 3 (ipykernel)",
   "language": "python",
   "name": "python3"
  },
  "language_info": {
   "codemirror_mode": {
    "name": "ipython",
    "version": 3
   },
   "file_extension": ".py",
   "mimetype": "text/x-python",
   "name": "python",
   "nbconvert_exporter": "python",
   "pygments_lexer": "ipython3",
   "version": "3.10.9"
  }
 },
 "nbformat": 4,
 "nbformat_minor": 4
}
